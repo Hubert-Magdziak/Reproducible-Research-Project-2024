{
 "cells": [
  {
   "cell_type": "code",
   "execution_count": 1,
   "metadata": {},
   "outputs": [],
   "source": [
    "import pandas as pd"
   ]
  },
  {
   "cell_type": "code",
   "execution_count": 5,
   "metadata": {},
   "outputs": [],
   "source": [
    "country_code_to_name = {\n",
    "    \"at\": \"Austria\", \"be\": \"Belgium\", \"ca\": \"Canada\", \"ch\": \"Switzerland\",\n",
    "    \"cz\": \"Czech Republic\", \"de\": \"Germany\", \"dk\": \"Denmark\", \"es\": \"Spain\",\n",
    "    \"fi\": \"Finland\", \"fr\": \"France\", \"gb\": \"United Kingdom\", \"gr\": \"Greece\",\n",
    "    \"hu\": \"Hungary\", \"ie\": \"Ireland\", \"is\": \"Iceland\", \"it\": \"Italy\",\n",
    "    \"jp\": \"Japan\", \"mx\": \"Mexico\", \"nl\": \"Netherlands\", \"no\": \"Norway\",\n",
    "    \"pl\": \"Poland\", \"pt\": \"Portugal\", \"se\": \"Sweden\", \"sk\": \"Slovakia\",\n",
    "    \"tr\": \"Turkey\", \"us\": \"United States\"\n",
    "}\n",
    "\n",
    "country_codes = list(country_code_to_name.keys())\n",
    "\n",
    "country_names = list(country_code_to_name.values())\n",
    "\n",
    "columns_to_keep = [\n",
    "    'date', 'region', 'chart', 'streams', 'af_danceability',\n",
    "    'af_energy', 'af_key', 'af_loudness', 'af_speechiness', \n",
    "    'af_acousticness', 'af_valence', 'af_tempo'\n",
    "]\n"
   ]
  },
  {
   "cell_type": "code",
   "execution_count": 13,
   "metadata": {},
   "outputs": [],
   "source": [
    "def preprocessing(data_frame):\n",
    "    data_frame['date'] = pd.to_datetime(data_frame['date'])\n",
    "    \n",
    "    # filter by date\n",
    "    date_filter = (data_frame['date'] >= '2018-01-01') & (data_frame['date'] <= '2019-12-31')\n",
    "\n",
    "    # filter by countries names\n",
    "    region_filter = data_frame['region'].isin(country_names)\n",
    "    \n",
    "    data_frame = data_frame[date_filter & region_filter]\n",
    "\n",
    "    # selection of wanted columns\n",
    "    data_frame = data_frame[columns_to_keep]\n",
    "\n",
    "    # filter by chart type\n",
    "    data_frame = data_frame[data_frame['chart'] == 'top200']\n",
    "\n",
    "    return data_frame\n",
    "\n",
    "def read_big_file(file_name):\n",
    "\n",
    "    for code_chunk in pd.read_csv(file_name, chunksize = 10000):\n",
    "        yield code_chunk\n"
   ]
  },
  {
   "cell_type": "code",
   "execution_count": 14,
   "metadata": {},
   "outputs": [],
   "source": [
    "output_file = 'processed_data.csv'\n",
    "\n",
    "header_written = False\n",
    "\n",
    "for data_frame in read_big_file('merged_data.csv'):\n",
    "    processed_data = preprocessing(data_frame)\n",
    "\n",
    "    if processed_data.empty:\n",
    "        continue\n",
    "\n",
    "    if not header_written:\n",
    "        processed_data.to_csv(output_file, mode='w', index=False)\n",
    "        header_written = True\n",
    "    else:\n",
    "        processed_data.to_csv(output_file, mode='a', header=False, index=False)\n"
   ]
  },
  {
   "cell_type": "code",
   "execution_count": 17,
   "metadata": {},
   "outputs": [
    {
     "data": {
      "text/plain": [
       "26"
      ]
     },
     "execution_count": 17,
     "metadata": {},
     "output_type": "execute_result"
    }
   ],
   "source": [
    "processed_df = pd.read_csv('processed_data.csv')\n",
    "\n",
    "# qualitative check if we have the same number of countries - its OK, 26 countries\n",
    "len(processed_df['region'].unique())"
   ]
  },
  {
   "cell_type": "markdown",
   "metadata": {},
   "source": [
    "Final preparation of aggregated by month and country data."
   ]
  },
  {
   "cell_type": "code",
   "execution_count": 18,
   "metadata": {},
   "outputs": [],
   "source": [
    "processed_df['date'] = pd.to_datetime(processed_df['date'])\n",
    "\n",
    "processed_df['year_month'] = processed_df['date'].dt.strftime('%Y%m')\n",
    "\n",
    "columns_to_average = [\n",
    "    'af_danceability', 'af_energy', 'af_key', 'af_loudness', \n",
    "    'af_speechiness', 'af_acousticness', 'af_valence', 'af_tempo'\n",
    "]\n",
    "\n",
    "# group by 'region' and 'year_month' to calculate aggregate values\n",
    "aggregated_df = processed_df.groupby(['region', 'year_month']).agg({\n",
    "    'streams': 'sum',\n",
    "    **{col: 'mean' for col in columns_to_average}\n",
    "}).reset_index()\n",
    "\n",
    "aggregated_df.to_csv('aggregated_monthly_data.csv', index=False)"
   ]
  }
 ],
 "metadata": {
  "kernelspec": {
   "display_name": "base",
   "language": "python",
   "name": "python3"
  },
  "language_info": {
   "codemirror_mode": {
    "name": "ipython",
    "version": 3
   },
   "file_extension": ".py",
   "mimetype": "text/x-python",
   "name": "python",
   "nbconvert_exporter": "python",
   "pygments_lexer": "ipython3",
   "version": "3.11.5"
  }
 },
 "nbformat": 4,
 "nbformat_minor": 2
}
